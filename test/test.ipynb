{
 "cells": [
  {
   "cell_type": "code",
   "execution_count": null,
   "metadata": {},
   "outputs": [
    {
     "name": "stderr",
     "output_type": "stream",
     "text": [
      "/u/st/am/adamlisle/.local/lib/python3.8/site-packages/torch/cuda/__init__.py:128: UserWarning: CUDA initialization: The NVIDIA driver on your system is too old (found version 11040). Please update your GPU driver by downloading and installing a new version from the URL: http://www.nvidia.com/Download/index.aspx Alternatively, go to: https://pytorch.org to install a PyTorch version that has been compiled with your version of the CUDA driver. (Triggered internally at ../c10/cuda/CUDAFunctions.cpp:108.)\n",
      "  return torch._C._cuda_getDeviceCount() > 0\n",
      "/u/st/am/adamlisle/.local/lib/python3.8/site-packages/torch/nn/modules/rnn.py:88: UserWarning: dropout option adds dropout after all but last recurrent layer, so non-zero dropout expects num_layers greater than 1, but got dropout=0.1 and num_layers=1\n",
      "  warnings.warn(\"dropout option adds dropout after all but last \"\n"
     ]
    },
    {
     "name": "stdout",
     "output_type": "stream",
     "text": [
      "tensor(2150.7463, grad_fn=<MeanBackward0>)\n",
      "tensor(387.2861, grad_fn=<MeanBackward0>)\n"
     ]
    }
   ],
   "source": [
    "# Copyright (c) 2020, Soohwan Kim. All rights reserved.\n",
    "#\n",
    "# Licensed under the Apache License, Version 2.0 (the \"License\");\n",
    "# you may not use this file except in compliance with the License.\n",
    "# You may obtain a copy of the License at\n",
    "#\n",
    "#     http://www.apache.org/licenses/LICENSE-2.0\n",
    "#\n",
    "# Unless required by applicable law or agreed to in writing, software\n",
    "# distributed under the License is distributed on an \"AS IS\" BASIS,\n",
    "# WITHOUT WARRANTIES OR CONDITIONS OF ANY KIND, either express or implied.\n",
    "# See the License for the specific language governing permissions and\n",
    "# limitations under the License.\n",
    "\n",
    "import torch\n",
    "import torch.nn as nn\n",
    "\n",
    "from kospeech.models import DeepSpeech2\n",
    "\n",
    "batch_size = 3\n",
    "sequence_length = 14321\n",
    "dimension = 80\n",
    "\n",
    "cuda = torch.cuda.is_available()\n",
    "device = torch.device('cuda' if cuda else 'cpu')\n",
    "\n",
    "model = DeepSpeech2(num_classes=10, input_dim=dimension).to(device)\n",
    "\n",
    "criterion = nn.CTCLoss(blank=3, zero_infinity=True)\n",
    "optimizer = torch.optim.Adam(model.parameters(), lr=1e-04)\n",
    "\n",
    "for i in range(10):\n",
    "    inputs = torch.rand(batch_size, sequence_length, dimension).to(device)\n",
    "    input_lengths = torch.IntTensor([12345, 12300, 12000])\n",
    "    targets = torch.LongTensor([[1, 3, 3, 3, 3, 3, 4, 5, 6, 2],\n",
    "                                [1, 3, 3, 3, 3, 3, 4, 5, 2, 0],\n",
    "                                [1, 3, 3, 3, 3, 3, 4, 2, 0, 0]]).to(device)\n",
    "    target_lengths = torch.LongTensor([9, 8, 7])\n",
    "    outputs, output_lengths = model(inputs, input_lengths)\n",
    "\n",
    "    loss = criterion(outputs.transpose(0, 1), targets[:, 1:], output_lengths, target_lengths)\n",
    "    loss.backward()\n",
    "    optimizer.step()\n",
    "    print(loss)\n"
   ]
  }
 ],
 "metadata": {
  "kernelspec": {
   "display_name": "Python 3",
   "language": "python",
   "name": "python3"
  },
  "language_info": {
   "codemirror_mode": {
    "name": "ipython",
    "version": 3
   },
   "file_extension": ".py",
   "mimetype": "text/x-python",
   "name": "python",
   "nbconvert_exporter": "python",
   "pygments_lexer": "ipython3",
   "version": "3.8.10"
  }
 },
 "nbformat": 4,
 "nbformat_minor": 2
}
